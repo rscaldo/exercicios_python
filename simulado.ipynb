{
 "cells": [
  {
   "cell_type": "code",
   "execution_count": 7,
   "id": "6a7d5d07-1013-4181-bc27-6eb33e50c773",
   "metadata": {},
   "outputs": [
    {
     "name": "stdout",
     "output_type": "stream",
     "text": [
      "***\n"
     ]
    }
   ],
   "source": [
    "for i in range(1,3):\n",
    "    print(\"*\",end=\"\")\n",
    "else:\n",
    "    print(\"*\")"
   ]
  },
  {
   "cell_type": "code",
   "execution_count": 8,
   "id": "9731edcb",
   "metadata": {},
   "outputs": [],
   "source": [
    "#Which of the following literals reflect the velue given as 34.23"
   ]
  },
  {
   "cell_type": "code",
   "execution_count": 11,
   "id": "abe7157e",
   "metadata": {},
   "outputs": [
    {
     "name": "stdout",
     "output_type": "stream",
     "text": [
      "34.23\n",
      "34.23\n",
      "0.003423\n",
      "342300.0\n"
     ]
    }
   ],
   "source": [
    "# e2 -> Multiplica por 100\n",
    "# e-2 -> Divide por 100\n",
    "\n",
    "print(.3423e2)\n",
    "print(3423e-2)\n",
    "print(.3423e-2)\n",
    "print(3423e2)\n"
   ]
  },
  {
   "cell_type": "markdown",
   "id": "4c329de8",
   "metadata": {},
   "source": [
    "10) What is the expected output of the following snippet?"
   ]
  },
  {
   "cell_type": "code",
   "execution_count": null,
   "id": "9197666c",
   "metadata": {},
   "outputs": [],
   "source": [
    "a=2\n",
    "if a>0:\n",
    "    a += 1\n",
    "    else:\n",
    "    a -= 1\n",
    "print(a)"
   ]
  },
  {
   "cell_type": "markdown",
   "id": "f997ce3b",
   "metadata": {},
   "source": [
    "11) Assuming that the fpllowing snippet has been successfully executed, which of the equations are True? (Choose two)"
   ]
  },
  {
   "cell_type": "code",
   "execution_count": 12,
   "id": "c5c455ac",
   "metadata": {},
   "outputs": [
    {
     "name": "stdout",
     "output_type": "stream",
     "text": [
      "[0]\n",
      "True\n",
      "False\n",
      "True\n",
      "False\n"
     ]
    },
    {
     "data": {
      "text/plain": [
       "(None,)"
      ]
     },
     "execution_count": 12,
     "metadata": {},
     "output_type": "execute_result"
    }
   ],
   "source": [
    "a = [1]\n",
    "#aqui b e a tem referência ao mesmo local da memoria, portanto se altera a posteriormente você tambem altera b\n",
    "b = a\n",
    "a[0] = 0\n",
    "\n",
    "print(b)\n",
    "print(len(a) == len(b)), \n",
    "print(b[0] + 1 == a[0]),\n",
    "print(a[0] == b[0]),\n",
    "print(a[0] + 1 == b[0]),"
   ]
  },
  {
   "cell_type": "code",
   "execution_count": 15,
   "id": "7c9b8fff",
   "metadata": {},
   "outputs": [
    {
     "name": "stdout",
     "output_type": "stream",
     "text": [
      "True\n",
      "True\n",
      "False\n",
      "False\n"
     ]
    }
   ],
   "source": [
    "#12 Assuming that the following snippet has beem successfully executed, which of the equations are False: (Choose two)\n",
    "a = [0]\n",
    "# Aqui b continua a ser 0, pq aqui nos analisamos os valores que temos em a e colocamos em b, NÃO estamos apontando para um lugar na memória\n",
    "b = a[:]\n",
    "a[0] = 1\n",
    "\n",
    "print(len(a) == len(b))\n",
    "print(a[0]-1 == b[0])\n",
    "print(a[0] == b[0])\n",
    "print(b[0]-1 == a[0])"
   ]
  },
  {
   "cell_type": "markdown",
   "id": "adc967c9",
   "metadata": {},
   "source": []
  },
  {
   "cell_type": "code",
   "execution_count": null,
   "id": "c2325d30",
   "metadata": {},
   "outputs": [],
   "source": [
    "#14 Which of the following sentences are true? (Choose two)\n",
    "A) Lists may not be stored inside tuples\n",
    "X) Tuples may be stored inside lists\n"
   ]
  },
  {
   "cell_type": "code",
   "execution_count": null,
   "metadata": {},
   "outputs": [],
   "source": [
    "C) Tuples may mot be stored inside tuples\n",
    "X) Lists may be stored inside lists"
   ]
  },
  {
   "cell_type": "markdown",
   "id": "9ae890fb",
   "metadata": {},
   "source": [
    "#15 Assuming that String is six or more letters long, the following slice string[1:-2] is shorter than the original string by:<br><br>\n",
    "A) four chars<br>\n",
    "X) three chars<br>\n",
    "C) one chars<br>\n",
    "D) two chars"
   ]
  },
  {
   "cell_type": "code",
   "execution_count": 18,
   "id": "cf37e1f5",
   "metadata": {},
   "outputs": [
    {
     "name": "stdout",
     "output_type": "stream",
     "text": [
      "9\n",
      "6\n"
     ]
    }
   ],
   "source": [
    "#15\n",
    "string = 'Reference'\n",
    "print(len(string))\n",
    "print(len(string[1:-2]))"
   ]
  },
  {
   "cell_type": "markdown",
   "id": "8894c5a2",
   "metadata": {},
   "source": [
    "#16 What in the expected output of the following snippet?<br>\n",
    "A) 1<br>\n",
    "B) 4<br>\n",
    "X) 2<br>\n",
    "D) 3<br>"
   ]
  },
  {
   "cell_type": "code",
   "execution_count": 19,
   "id": "01c68dfa",
   "metadata": {},
   "outputs": [
    {
     "name": "stdout",
     "output_type": "stream",
     "text": [
      "1\n"
     ]
    }
   ],
   "source": [
    "lst = [1,2,34]\n",
    "lst = lst[-3:-2]\n",
    "lst = lst[-1]\n",
    "print(lst)"
   ]
  }
 ],
 "metadata": {
  "kernelspec": {
   "display_name": "Python 3 (ipykernel)",
   "language": "python",
   "name": "python3"
  },
  "language_info": {
   "codemirror_mode": {
    "name": "ipython",
    "version": 3
   },
   "file_extension": ".py",
   "mimetype": "text/x-python",
   "name": "python",
   "nbconvert_exporter": "python",
   "pygments_lexer": "ipython3",
   "version": "3.12.3"
  }
 },
 "nbformat": 4,
 "nbformat_minor": 5
}
